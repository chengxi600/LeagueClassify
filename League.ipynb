{
 "cells": [
  {
   "cell_type": "markdown",
   "metadata": {},
   "source": [
    "# Classifying League of Legends Champion Archetypes"
   ]
  },
  {
   "cell_type": "markdown",
   "metadata": {},
   "source": [
    "Read more at: https://chengxi600.medium.com/classifying-league-of-legends-champion-archetypes-with-neural-networks-7e8f680c1efe"
   ]
  },
  {
   "cell_type": "code",
   "execution_count": 2,
   "metadata": {
    "id": "-TOsH_irBgJg"
   },
   "outputs": [],
   "source": [
    "import numpy as np\n",
    "import pandas as pd\n",
    "import json\n",
    "from PIL import Image\n",
    "from os import listdir\n",
    "from tqdm import tqdm\n",
    "import cv2\n",
    "\n"
   ]
  },
  {
   "cell_type": "code",
   "execution_count": 3,
   "metadata": {
    "id": "8BJOltHZL2JI"
   },
   "outputs": [],
   "source": [
    "img_path_loading = 'drive/MyDrive/loading/'\n",
    "img_path_tiles = 'drive/MyDrive/tiles/'\n",
    "img_path_icon = 'drive/MyDrive/champion/'\n",
    "data_path = 'drive/MyDrive/champion.json'"
   ]
  },
  {
   "cell_type": "markdown",
   "metadata": {
    "id": "IpbltsfDKfjZ"
   },
   "source": [
    "Loading champion data, original source from: https://developer.riotgames.com/docs/lol#data-dragon_data-asset"
   ]
  },
  {
   "cell_type": "code",
   "execution_count": 4,
   "metadata": {
    "id": "HQ81ZxuGB79W"
   },
   "outputs": [],
   "source": [
    "with open(data_path) as f:\n",
    "  champion_data = json.load(f)"
   ]
  },
  {
   "cell_type": "markdown",
   "metadata": {},
   "source": [
    "Champion data of 'XinZhao':"
   ]
  },
  {
   "cell_type": "code",
   "execution_count": 4,
   "metadata": {
    "colab": {
     "base_uri": "https://localhost:8080/"
    },
    "id": "xCLsoSj2KR17",
    "outputId": "78ff785e-a569-41d0-c84b-70cd32e06d92"
   },
   "outputs": [
    {
     "data": {
      "text/plain": [
       "{'blurb': 'Xin Zhao is a resolute warrior loyal to the ruling Lightshield dynasty. Once condemned to the fighting pits of Noxus, he survived countless gladiatorial bouts, but after being freed by Demacian forces, he swore his life and allegiance to these brave...',\n",
       " 'id': 'XinZhao',\n",
       " 'image': {'full': 'XinZhao.png',\n",
       "  'group': 'champion',\n",
       "  'h': 48,\n",
       "  'sprite': 'champion4.png',\n",
       "  'w': 48,\n",
       "  'x': 192,\n",
       "  'y': 96},\n",
       " 'info': {'attack': 8, 'defense': 6, 'difficulty': 2, 'magic': 3},\n",
       " 'key': '5',\n",
       " 'name': 'Xin Zhao',\n",
       " 'partype': 'Mana',\n",
       " 'stats': {'armor': 35,\n",
       "  'armorperlevel': 3.5,\n",
       "  'attackdamage': 66,\n",
       "  'attackdamageperlevel': 3,\n",
       "  'attackrange': 175,\n",
       "  'attackspeed': 0.645,\n",
       "  'attackspeedperlevel': 3.5,\n",
       "  'crit': 0,\n",
       "  'critperlevel': 0,\n",
       "  'hp': 570,\n",
       "  'hpperlevel': 92,\n",
       "  'hpregen': 8,\n",
       "  'hpregenperlevel': 0.7,\n",
       "  'movespeed': 345,\n",
       "  'mp': 274,\n",
       "  'mpperlevel': 55,\n",
       "  'mpregen': 7.26,\n",
       "  'mpregenperlevel': 0.45,\n",
       "  'spellblock': 32,\n",
       "  'spellblockperlevel': 1.25},\n",
       " 'tags': ['Fighter', 'Assassin'],\n",
       " 'title': 'the Seneschal of Demacia',\n",
       " 'version': '11.11.1'}"
      ]
     },
     "execution_count": 4,
     "metadata": {
      "tags": []
     },
     "output_type": "execute_result"
    }
   ],
   "source": [
    "champion_data['data']['XinZhao']"
   ]
  },
  {
   "cell_type": "markdown",
   "metadata": {},
   "source": [
    "Building a dict of sample data and labels:"
   ]
  },
  {
   "cell_type": "code",
   "execution_count": 51,
   "metadata": {
    "colab": {
     "base_uri": "https://localhost:8080/"
    },
    "id": "DuBcCDtQac4T",
    "outputId": "1f90f1ac-cfaf-431b-abee-9666fc1a4a42"
   },
   "outputs": [
    {
     "data": {
      "text/plain": [
       "{'target_names': array(['Fighter', 'Assassin', 'Marksman', 'Support', 'Mage', 'Tank'],\n",
       "       dtype='<U8')}"
      ]
     },
     "execution_count": 51,
     "metadata": {
      "tags": []
     },
     "output_type": "execute_result"
    }
   ],
   "source": [
    "champions = {}\n",
    "target_names = set()\n",
    "\n",
    "#Finding the labels from Riot's champion data\n",
    "for champ in champion_data['data'].keys():\n",
    "  target_names.add(champion_data['data'][champ]['tags'][0])\n",
    "\n",
    "target_names = np.array(list(target_names))\n",
    "champions['target_names'] = target_names\n",
    "champions"
   ]
  },
  {
   "cell_type": "code",
   "execution_count": 8,
   "metadata": {
    "colab": {
     "base_uri": "https://localhost:8080/"
    },
    "id": "-91Fir5tLo3t",
    "outputId": "c853856c-0eb7-43f7-90de-ae4231f1c940"
   },
   "outputs": [
    {
     "data": {
      "text/plain": [
       "array([208, 174, 113], dtype=uint8)"
      ]
     },
     "execution_count": 8,
     "metadata": {
      "tags": []
     },
     "output_type": "execute_result"
    }
   ],
   "source": [
    "#what a pixel looks like\n",
    "twitch = np.asarray(Image.open(img_path_loading + 'Twitch_4.jpg'))\n",
    "twitch[100][100]"
   ]
  },
  {
   "cell_type": "code",
   "execution_count": 29,
   "metadata": {
    "id": "Rxtn2EetjJU5"
   },
   "outputs": [],
   "source": [
    "def add_new_samples_labels(sample_key, label_key, img_path, shape, color_scale, delim):\n",
    "  ''' Add samples and labels to the champions dictionary\n",
    "  Args:\n",
    "  - sample_key (String): key of samples to be added\n",
    "  - label_key (String): key of labels of sample to be added\n",
    "  - img_path (String): path to the directory of images\n",
    "  - shape (tuple): width and height of image\n",
    "  - color_scale (int): a cv2 constant of the color scale\n",
    "  - delim (String): deliminator for getting champion name out of file name\n",
    "  \n",
    "  Return:\n",
    "  - champions (Dict): updated dictionary with new samples and labels\n",
    "  '''\n",
    "  #use python array for faster appending\n",
    "  champions[sample_key] = []\n",
    "  champions[label_key] = []\n",
    "\n",
    "  #iterate through files in path\n",
    "  for sample in tqdm(listdir(img_path)):\n",
    "    \n",
    "    #get champion name\n",
    "    champ = sample.split(delim)[0]\n",
    "    \n",
    "    #get label from champion data \n",
    "    try:\n",
    "      tag = champion_data['data'][champ]['tags'][0]\n",
    "    except KeyError:\n",
    "      tag = champion_data['data'][champ.title()]['tags'][0]\n",
    "    \n",
    "    #get feature data\n",
    "    img = cv2.imread(img_path + sample, color_scale)\n",
    "    sample_data = cv2.resize(img, dsize=shape, interpolation=cv2.INTER_CUBIC)\n",
    "\n",
    "    champions[sample_key].append(sample_data)\n",
    "    champions[label_key].append(np.where(champions['target_names']==tag)[0][0])\n",
    "\n",
    "  #convert array to numpy array for compatibility with other libraries\n",
    "  champions[sample_key] = np.array(champions[sample_key])\n",
    "  champions[label_key] = np.array(champions[label_key])\n",
    "  return champions"
   ]
  },
  {
   "cell_type": "markdown",
   "metadata": {},
   "source": [
    "Adding samples to dict:"
   ]
  },
  {
   "cell_type": "code",
   "execution_count": null,
   "metadata": {
    "colab": {
     "base_uri": "https://localhost:8080/"
    },
    "id": "fwsPLrBHMGr7",
    "outputId": "2bb5945c-593b-4bd7-a478-641c4acfafeb",
    "scrolled": false
   },
   "outputs": [],
   "source": [
    "add_new_samples_labels('images_loading', 'target_loading', img_path_loading, (32, 32), cv2.IMREAD_COLOR, '_')"
   ]
  },
  {
   "cell_type": "code",
   "execution_count": null,
   "metadata": {
    "colab": {
     "base_uri": "https://localhost:8080/"
    },
    "id": "8lpEmGWRASUQ",
    "outputId": "34fdc730-399d-44ce-ccb2-130232e4a09c"
   },
   "outputs": [],
   "source": [
    "add_new_samples_labels('images_icon', 'target_icon', img_path_icon, (32, 32), cv2.IMREAD_GRAYSCALE, '.')\n",
    "add_new_samples_labels('images_tiles', 'target_tiles', img_path_tiles, (224, 224), cv2.IMREAD_COLOR, '_')"
   ]
  },
  {
   "cell_type": "code",
   "execution_count": 53,
   "metadata": {
    "colab": {
     "base_uri": "https://localhost:8080/"
    },
    "id": "SL7hvPo8klbF",
    "outputId": "5c012e6d-a831-402f-ed59-08615886c89c"
   },
   "outputs": [
    {
     "name": "stdout",
     "output_type": "stream",
     "text": [
      "Num classes: (6,)\n",
      "images shape: (1377, 227, 227, 3)\n",
      "target shape: (1377,)\n"
     ]
    }
   ],
   "source": [
    "print('Num classes: ' + str(champions['target_names'].shape))\n",
    "print('images shape: ' + str(champions['images_tiles'].shape))\n",
    "print('target shape: ' + str(champions['target_tiles'].shape))"
   ]
  },
  {
   "cell_type": "code",
   "execution_count": 54,
   "metadata": {
    "id": "9zUja5rhdbJ_"
   },
   "outputs": [],
   "source": [
    "from sklearn.model_selection import train_test_split\n",
    "from numpy.random import seed\n",
    "from tensorflow.random import set_seed\n",
    "from tensorflow import keras\n",
    "from tensorflow.keras import layers\n",
    "import matplotlib.pyplot as plt\n",
    "import seaborn as sns\n",
    "\n",
    "seed(4100)\n",
    "set_seed(4100)"
   ]
  },
  {
   "cell_type": "code",
   "execution_count": 44,
   "metadata": {
    "id": "Cxk9q4rRkfQw"
   },
   "outputs": [],
   "source": [
    "features_train, features_test, labels_train, labels_test = train_test_split(champions['images_tiles'], champions['target_tiles'], test_size=0.1, random_state=4100)"
   ]
  },
  {
   "cell_type": "code",
   "execution_count": 45,
   "metadata": {
    "colab": {
     "base_uri": "https://localhost:8080/"
    },
    "id": "1hDab07wl_WJ",
    "outputId": "55f16288-d9b1-4206-b476-d9553ce6e030"
   },
   "outputs": [
    {
     "name": "stdout",
     "output_type": "stream",
     "text": [
      "x_train shape: (1239, 32, 32, 1)\n",
      "1239 train samples\n",
      "138 test samples\n"
     ]
    }
   ],
   "source": [
    "# Model / data parameters\n",
    "num_classes = len(champions['target_names'])\n",
    "input_shape = (32, 32, 1)\n",
    "\n",
    "# Scale images to the [0, 1] range\n",
    "features_train = features_train.astype(\"float32\") / 255\n",
    "features_test = features_test.astype(\"float32\") / 255\n",
    "\n",
    "# Make sure images have shape (32, 32, 1)\n",
    "features_train = np.expand_dims(features_train, -1)\n",
    "features_test = np.expand_dims(features_test, -1)\n",
    "\n",
    "print(\"x_train shape:\", features_train.shape)\n",
    "print(features_train.shape[0], \"train samples\")\n",
    "print(features_test.shape[0], \"test samples\")\n",
    "\n",
    "labels_train = keras.utils.to_categorical(labels_train, num_classes)\n",
    "labels_test = keras.utils.to_categorical(labels_test, num_classes)"
   ]
  },
  {
   "cell_type": "code",
   "execution_count": 46,
   "metadata": {
    "colab": {
     "base_uri": "https://localhost:8080/"
    },
    "id": "tqfiAS9wmjAY",
    "outputId": "ad203de7-cd41-4e30-8378-91d55080bd04"
   },
   "outputs": [
    {
     "name": "stdout",
     "output_type": "stream",
     "text": [
      "WARNING:tensorflow:Please add `keras.layers.InputLayer` instead of `keras.Input` to Sequential model. `keras.Input` is intended to be used by Functional model.\n",
      "Model: \"sequential_3\"\n",
      "_________________________________________________________________\n",
      "Layer (type)                 Output Shape              Param #   \n",
      "=================================================================\n",
      "conv2d_6 (Conv2D)            (None, 30, 30, 32)        320       \n",
      "_________________________________________________________________\n",
      "max_pooling2d_6 (MaxPooling2 (None, 15, 15, 32)        0         \n",
      "_________________________________________________________________\n",
      "conv2d_7 (Conv2D)            (None, 13, 13, 64)        18496     \n",
      "_________________________________________________________________\n",
      "max_pooling2d_7 (MaxPooling2 (None, 6, 6, 64)          0         \n",
      "_________________________________________________________________\n",
      "flatten_3 (Flatten)          (None, 2304)              0         \n",
      "_________________________________________________________________\n",
      "dropout_3 (Dropout)          (None, 2304)              0         \n",
      "_________________________________________________________________\n",
      "dense_3 (Dense)              (None, 6)                 13830     \n",
      "=================================================================\n",
      "Total params: 32,646\n",
      "Trainable params: 32,646\n",
      "Non-trainable params: 0\n",
      "_________________________________________________________________\n"
     ]
    }
   ],
   "source": [
    "lenet_model = keras.Sequential(\n",
    "    [\n",
    "        keras.Input(shape=input_shape),\n",
    "        layers.Conv2D(32, kernel_size=(3, 3), activation=\"relu\"),\n",
    "        layers.MaxPooling2D(pool_size=(2, 2)),\n",
    "        layers.Conv2D(64, kernel_size=(3, 3), activation=\"relu\"),\n",
    "        layers.MaxPooling2D(pool_size=(2, 2)),\n",
    "        layers.Flatten(),\n",
    "        layers.Dropout(0.5),\n",
    "        layers.Dense(num_classes, activation=\"softmax\"),\n",
    "    ]\n",
    ")\n",
    "\n",
    "lenet_model.summary()"
   ]
  },
  {
   "cell_type": "code",
   "execution_count": 47,
   "metadata": {
    "colab": {
     "base_uri": "https://localhost:8080/"
    },
    "id": "PKPWvF0OnlOS",
    "outputId": "59c39043-05f8-45de-cde1-44341fde5c0a"
   },
   "outputs": [
    {
     "name": "stdout",
     "output_type": "stream",
     "text": [
      "Epoch 1/100\n",
      "9/9 [==============================] - 2s 148ms/step - loss: 1.7463 - accuracy: 0.2323 - val_loss: 1.7018 - val_accuracy: 0.3226\n",
      "Epoch 2/100\n",
      "9/9 [==============================] - 1s 131ms/step - loss: 1.7340 - accuracy: 0.2655 - val_loss: 1.7199 - val_accuracy: 0.3145\n",
      "Epoch 3/100\n",
      "9/9 [==============================] - 1s 130ms/step - loss: 1.7292 - accuracy: 0.2610 - val_loss: 1.7052 - val_accuracy: 0.3145\n",
      "Epoch 4/100\n",
      "9/9 [==============================] - 1s 132ms/step - loss: 1.7166 - accuracy: 0.2780 - val_loss: 1.7117 - val_accuracy: 0.3065\n",
      "Epoch 5/100\n",
      "9/9 [==============================] - 1s 133ms/step - loss: 1.7108 - accuracy: 0.2789 - val_loss: 1.7075 - val_accuracy: 0.3387\n",
      "Epoch 6/100\n",
      "9/9 [==============================] - 1s 131ms/step - loss: 1.6945 - accuracy: 0.2807 - val_loss: 1.7060 - val_accuracy: 0.3145\n",
      "Epoch 7/100\n",
      "9/9 [==============================] - 1s 133ms/step - loss: 1.6941 - accuracy: 0.2789 - val_loss: 1.7170 - val_accuracy: 0.2742\n",
      "Epoch 8/100\n",
      "9/9 [==============================] - 1s 131ms/step - loss: 1.6810 - accuracy: 0.3058 - val_loss: 1.7054 - val_accuracy: 0.3306\n",
      "Epoch 9/100\n",
      "9/9 [==============================] - 1s 131ms/step - loss: 1.6686 - accuracy: 0.2978 - val_loss: 1.7190 - val_accuracy: 0.2903\n",
      "Epoch 10/100\n",
      "9/9 [==============================] - 1s 133ms/step - loss: 1.6619 - accuracy: 0.2978 - val_loss: 1.7210 - val_accuracy: 0.2742\n",
      "Epoch 11/100\n",
      "9/9 [==============================] - 1s 131ms/step - loss: 1.6497 - accuracy: 0.3031 - val_loss: 1.7273 - val_accuracy: 0.2903\n",
      "Epoch 12/100\n",
      "9/9 [==============================] - 1s 131ms/step - loss: 1.6394 - accuracy: 0.3121 - val_loss: 1.7386 - val_accuracy: 0.2742\n",
      "Epoch 13/100\n",
      "9/9 [==============================] - 1s 132ms/step - loss: 1.6223 - accuracy: 0.3318 - val_loss: 1.7643 - val_accuracy: 0.2742\n",
      "Epoch 14/100\n",
      "9/9 [==============================] - 1s 131ms/step - loss: 1.6230 - accuracy: 0.3274 - val_loss: 1.7473 - val_accuracy: 0.2661\n",
      "Epoch 15/100\n",
      "9/9 [==============================] - 1s 132ms/step - loss: 1.6032 - accuracy: 0.3471 - val_loss: 1.7625 - val_accuracy: 0.2661\n",
      "Epoch 16/100\n",
      "9/9 [==============================] - 1s 131ms/step - loss: 1.5915 - accuracy: 0.3489 - val_loss: 1.7634 - val_accuracy: 0.2581\n",
      "Epoch 17/100\n",
      "9/9 [==============================] - 1s 134ms/step - loss: 1.5841 - accuracy: 0.3605 - val_loss: 1.7664 - val_accuracy: 0.2419\n",
      "Epoch 18/100\n",
      "9/9 [==============================] - 1s 132ms/step - loss: 1.5609 - accuracy: 0.3668 - val_loss: 1.7837 - val_accuracy: 0.2177\n",
      "Epoch 19/100\n",
      "9/9 [==============================] - 1s 132ms/step - loss: 1.5565 - accuracy: 0.3749 - val_loss: 1.7894 - val_accuracy: 0.2823\n",
      "Epoch 20/100\n",
      "9/9 [==============================] - 1s 131ms/step - loss: 1.5500 - accuracy: 0.3794 - val_loss: 1.7932 - val_accuracy: 0.2177\n",
      "Epoch 21/100\n",
      "9/9 [==============================] - 1s 132ms/step - loss: 1.5408 - accuracy: 0.3668 - val_loss: 1.7971 - val_accuracy: 0.2500\n",
      "Epoch 22/100\n",
      "9/9 [==============================] - 1s 133ms/step - loss: 1.5270 - accuracy: 0.3830 - val_loss: 1.8133 - val_accuracy: 0.2016\n",
      "Epoch 23/100\n",
      "9/9 [==============================] - 1s 131ms/step - loss: 1.4997 - accuracy: 0.4242 - val_loss: 1.8160 - val_accuracy: 0.2500\n",
      "Epoch 24/100\n",
      "9/9 [==============================] - 1s 134ms/step - loss: 1.4947 - accuracy: 0.4072 - val_loss: 1.8375 - val_accuracy: 0.2258\n",
      "Epoch 25/100\n",
      "9/9 [==============================] - 1s 133ms/step - loss: 1.4862 - accuracy: 0.4045 - val_loss: 1.8306 - val_accuracy: 0.2258\n",
      "Epoch 26/100\n",
      "9/9 [==============================] - 1s 132ms/step - loss: 1.4701 - accuracy: 0.3973 - val_loss: 1.8521 - val_accuracy: 0.2016\n",
      "Epoch 27/100\n",
      "9/9 [==============================] - 1s 133ms/step - loss: 1.4589 - accuracy: 0.4368 - val_loss: 1.8511 - val_accuracy: 0.2339\n",
      "Epoch 28/100\n",
      "9/9 [==============================] - 1s 134ms/step - loss: 1.4722 - accuracy: 0.4108 - val_loss: 1.8556 - val_accuracy: 0.2339\n",
      "Epoch 29/100\n",
      "9/9 [==============================] - 1s 132ms/step - loss: 1.4306 - accuracy: 0.4439 - val_loss: 1.8505 - val_accuracy: 0.2339\n",
      "Epoch 30/100\n",
      "9/9 [==============================] - 1s 132ms/step - loss: 1.4096 - accuracy: 0.4359 - val_loss: 1.8858 - val_accuracy: 0.2581\n",
      "Epoch 31/100\n",
      "9/9 [==============================] - 1s 132ms/step - loss: 1.4137 - accuracy: 0.4457 - val_loss: 1.8875 - val_accuracy: 0.2258\n",
      "Epoch 32/100\n",
      "9/9 [==============================] - 1s 132ms/step - loss: 1.4064 - accuracy: 0.4135 - val_loss: 1.8783 - val_accuracy: 0.2258\n",
      "Epoch 33/100\n",
      "9/9 [==============================] - 1s 131ms/step - loss: 1.3589 - accuracy: 0.4915 - val_loss: 1.8918 - val_accuracy: 0.2500\n",
      "Epoch 34/100\n",
      "9/9 [==============================] - 1s 132ms/step - loss: 1.3605 - accuracy: 0.4538 - val_loss: 1.9253 - val_accuracy: 0.2016\n",
      "Epoch 35/100\n",
      "9/9 [==============================] - 1s 132ms/step - loss: 1.3611 - accuracy: 0.4771 - val_loss: 1.9142 - val_accuracy: 0.2742\n",
      "Epoch 36/100\n",
      "9/9 [==============================] - 1s 131ms/step - loss: 1.3244 - accuracy: 0.4762 - val_loss: 1.9629 - val_accuracy: 0.2097\n",
      "Epoch 37/100\n",
      "9/9 [==============================] - 1s 134ms/step - loss: 1.3240 - accuracy: 0.4879 - val_loss: 1.9339 - val_accuracy: 0.2419\n",
      "Epoch 38/100\n",
      "9/9 [==============================] - 1s 133ms/step - loss: 1.3304 - accuracy: 0.4682 - val_loss: 1.9505 - val_accuracy: 0.2661\n",
      "Epoch 39/100\n",
      "9/9 [==============================] - 1s 132ms/step - loss: 1.3126 - accuracy: 0.4888 - val_loss: 1.9415 - val_accuracy: 0.2016\n",
      "Epoch 40/100\n",
      "9/9 [==============================] - 1s 133ms/step - loss: 1.2780 - accuracy: 0.5058 - val_loss: 1.9641 - val_accuracy: 0.2097\n",
      "Epoch 41/100\n",
      "9/9 [==============================] - 1s 133ms/step - loss: 1.2668 - accuracy: 0.5283 - val_loss: 1.9604 - val_accuracy: 0.1935\n",
      "Epoch 42/100\n",
      "9/9 [==============================] - 1s 134ms/step - loss: 1.2640 - accuracy: 0.5094 - val_loss: 1.9862 - val_accuracy: 0.2419\n",
      "Epoch 43/100\n",
      "9/9 [==============================] - 1s 131ms/step - loss: 1.2458 - accuracy: 0.5327 - val_loss: 1.9608 - val_accuracy: 0.2339\n",
      "Epoch 44/100\n",
      "9/9 [==============================] - 1s 131ms/step - loss: 1.2282 - accuracy: 0.5426 - val_loss: 2.0062 - val_accuracy: 0.2258\n",
      "Epoch 45/100\n",
      "9/9 [==============================] - 1s 133ms/step - loss: 1.2057 - accuracy: 0.5534 - val_loss: 1.9895 - val_accuracy: 0.2097\n",
      "Epoch 46/100\n",
      "9/9 [==============================] - 1s 132ms/step - loss: 1.2032 - accuracy: 0.5345 - val_loss: 2.0017 - val_accuracy: 0.2258\n",
      "Epoch 47/100\n",
      "9/9 [==============================] - 1s 131ms/step - loss: 1.2106 - accuracy: 0.5426 - val_loss: 2.0073 - val_accuracy: 0.2097\n",
      "Epoch 48/100\n",
      "9/9 [==============================] - 1s 132ms/step - loss: 1.1654 - accuracy: 0.5570 - val_loss: 2.0168 - val_accuracy: 0.2258\n",
      "Epoch 49/100\n",
      "9/9 [==============================] - 1s 136ms/step - loss: 1.1585 - accuracy: 0.5668 - val_loss: 2.0288 - val_accuracy: 0.2016\n",
      "Epoch 50/100\n",
      "9/9 [==============================] - 1s 134ms/step - loss: 1.1400 - accuracy: 0.5758 - val_loss: 2.0309 - val_accuracy: 0.2339\n",
      "Epoch 51/100\n",
      "9/9 [==============================] - 1s 131ms/step - loss: 1.1492 - accuracy: 0.5722 - val_loss: 2.0237 - val_accuracy: 0.2097\n",
      "Epoch 52/100\n",
      "9/9 [==============================] - 1s 134ms/step - loss: 1.1157 - accuracy: 0.5955 - val_loss: 2.0375 - val_accuracy: 0.2177\n",
      "Epoch 53/100\n",
      "9/9 [==============================] - 1s 132ms/step - loss: 1.1028 - accuracy: 0.6108 - val_loss: 2.0714 - val_accuracy: 0.2339\n",
      "Epoch 54/100\n",
      "9/9 [==============================] - 1s 134ms/step - loss: 1.0622 - accuracy: 0.6108 - val_loss: 2.0968 - val_accuracy: 0.2097\n",
      "Epoch 55/100\n",
      "9/9 [==============================] - 1s 132ms/step - loss: 1.1025 - accuracy: 0.5865 - val_loss: 2.0840 - val_accuracy: 0.1613\n",
      "Epoch 56/100\n",
      "9/9 [==============================] - 1s 134ms/step - loss: 1.0604 - accuracy: 0.6072 - val_loss: 2.1063 - val_accuracy: 0.2177\n",
      "Epoch 57/100\n",
      "9/9 [==============================] - 1s 133ms/step - loss: 1.0629 - accuracy: 0.6081 - val_loss: 2.0763 - val_accuracy: 0.2097\n",
      "Epoch 58/100\n",
      "9/9 [==============================] - 1s 133ms/step - loss: 1.0388 - accuracy: 0.6305 - val_loss: 2.1422 - val_accuracy: 0.2177\n",
      "Epoch 59/100\n",
      "9/9 [==============================] - 1s 133ms/step - loss: 1.0367 - accuracy: 0.6054 - val_loss: 2.1218 - val_accuracy: 0.2177\n",
      "Epoch 60/100\n",
      "9/9 [==============================] - 1s 134ms/step - loss: 1.0017 - accuracy: 0.6260 - val_loss: 2.1534 - val_accuracy: 0.2016\n",
      "Epoch 61/100\n",
      "9/9 [==============================] - 1s 132ms/step - loss: 1.0361 - accuracy: 0.6126 - val_loss: 2.1307 - val_accuracy: 0.2177\n",
      "Epoch 62/100\n",
      "9/9 [==============================] - 1s 135ms/step - loss: 0.9927 - accuracy: 0.6395 - val_loss: 2.1373 - val_accuracy: 0.2097\n",
      "Epoch 63/100\n",
      "9/9 [==============================] - 1s 132ms/step - loss: 0.9949 - accuracy: 0.6197 - val_loss: 2.1740 - val_accuracy: 0.2258\n",
      "Epoch 64/100\n",
      "9/9 [==============================] - 1s 133ms/step - loss: 0.9920 - accuracy: 0.6323 - val_loss: 2.1716 - val_accuracy: 0.2016\n",
      "Epoch 65/100\n",
      "9/9 [==============================] - 1s 136ms/step - loss: 0.9555 - accuracy: 0.6798 - val_loss: 2.1500 - val_accuracy: 0.2177\n",
      "Epoch 66/100\n",
      "9/9 [==============================] - 1s 132ms/step - loss: 0.9496 - accuracy: 0.6565 - val_loss: 2.1871 - val_accuracy: 0.2339\n",
      "Epoch 67/100\n",
      "9/9 [==============================] - 1s 134ms/step - loss: 0.9493 - accuracy: 0.6583 - val_loss: 2.1910 - val_accuracy: 0.1935\n",
      "Epoch 68/100\n",
      "9/9 [==============================] - 1s 133ms/step - loss: 0.9345 - accuracy: 0.6655 - val_loss: 2.2046 - val_accuracy: 0.2016\n",
      "Epoch 69/100\n",
      "9/9 [==============================] - 1s 133ms/step - loss: 0.9225 - accuracy: 0.6673 - val_loss: 2.2040 - val_accuracy: 0.2097\n",
      "Epoch 70/100\n",
      "9/9 [==============================] - 1s 136ms/step - loss: 0.9097 - accuracy: 0.6798 - val_loss: 2.2518 - val_accuracy: 0.2097\n",
      "Epoch 71/100\n",
      "9/9 [==============================] - 1s 134ms/step - loss: 0.8951 - accuracy: 0.6771 - val_loss: 2.2296 - val_accuracy: 0.2339\n",
      "Epoch 72/100\n",
      "9/9 [==============================] - 1s 133ms/step - loss: 0.9031 - accuracy: 0.6691 - val_loss: 2.2449 - val_accuracy: 0.2097\n",
      "Epoch 73/100\n",
      "9/9 [==============================] - 1s 134ms/step - loss: 0.9031 - accuracy: 0.6664 - val_loss: 2.2323 - val_accuracy: 0.2177\n",
      "Epoch 74/100\n",
      "9/9 [==============================] - 1s 134ms/step - loss: 0.8844 - accuracy: 0.6753 - val_loss: 2.2810 - val_accuracy: 0.2177\n",
      "Epoch 75/100\n",
      "9/9 [==============================] - 1s 134ms/step - loss: 0.8590 - accuracy: 0.6870 - val_loss: 2.2741 - val_accuracy: 0.2258\n",
      "Epoch 76/100\n",
      "9/9 [==============================] - 1s 133ms/step - loss: 0.8555 - accuracy: 0.6933 - val_loss: 2.2455 - val_accuracy: 0.2177\n",
      "Epoch 77/100\n",
      "9/9 [==============================] - 1s 134ms/step - loss: 0.8694 - accuracy: 0.6861 - val_loss: 2.3189 - val_accuracy: 0.2177\n",
      "Epoch 78/100\n",
      "9/9 [==============================] - 1s 133ms/step - loss: 0.8636 - accuracy: 0.6942 - val_loss: 2.2307 - val_accuracy: 0.2258\n",
      "Epoch 79/100\n",
      "9/9 [==============================] - 1s 133ms/step - loss: 0.8230 - accuracy: 0.7058 - val_loss: 2.2739 - val_accuracy: 0.2177\n",
      "Epoch 80/100\n",
      "9/9 [==============================] - 1s 133ms/step - loss: 0.8156 - accuracy: 0.7112 - val_loss: 2.3237 - val_accuracy: 0.2016\n",
      "Epoch 81/100\n",
      "9/9 [==============================] - 1s 132ms/step - loss: 0.8225 - accuracy: 0.7094 - val_loss: 2.2711 - val_accuracy: 0.2097\n",
      "Epoch 82/100\n",
      "9/9 [==============================] - 1s 136ms/step - loss: 0.8148 - accuracy: 0.7265 - val_loss: 2.3131 - val_accuracy: 0.2177\n",
      "Epoch 83/100\n",
      "9/9 [==============================] - 1s 134ms/step - loss: 0.7885 - accuracy: 0.7229 - val_loss: 2.3053 - val_accuracy: 0.2419\n",
      "Epoch 84/100\n",
      "9/9 [==============================] - 1s 135ms/step - loss: 0.7509 - accuracy: 0.7417 - val_loss: 2.4035 - val_accuracy: 0.2177\n",
      "Epoch 85/100\n",
      "9/9 [==============================] - 1s 134ms/step - loss: 0.7834 - accuracy: 0.7247 - val_loss: 2.2978 - val_accuracy: 0.2177\n",
      "Epoch 86/100\n",
      "9/9 [==============================] - 1s 133ms/step - loss: 0.7924 - accuracy: 0.7112 - val_loss: 2.3428 - val_accuracy: 0.1935\n",
      "Epoch 87/100\n",
      "9/9 [==============================] - 1s 132ms/step - loss: 0.7491 - accuracy: 0.7462 - val_loss: 2.3449 - val_accuracy: 0.2419\n",
      "Epoch 88/100\n",
      "9/9 [==============================] - 1s 133ms/step - loss: 0.7398 - accuracy: 0.7552 - val_loss: 2.3662 - val_accuracy: 0.2258\n",
      "Epoch 89/100\n",
      "9/9 [==============================] - 1s 131ms/step - loss: 0.7680 - accuracy: 0.7381 - val_loss: 2.3398 - val_accuracy: 0.2097\n",
      "Epoch 90/100\n",
      "9/9 [==============================] - 1s 134ms/step - loss: 0.7200 - accuracy: 0.7480 - val_loss: 2.4000 - val_accuracy: 0.2177\n",
      "Epoch 91/100\n",
      "9/9 [==============================] - 1s 132ms/step - loss: 0.7379 - accuracy: 0.7543 - val_loss: 2.3565 - val_accuracy: 0.2339\n",
      "Epoch 92/100\n",
      "9/9 [==============================] - 1s 135ms/step - loss: 0.7117 - accuracy: 0.7552 - val_loss: 2.3921 - val_accuracy: 0.2097\n",
      "Epoch 93/100\n",
      "9/9 [==============================] - 1s 136ms/step - loss: 0.7365 - accuracy: 0.7363 - val_loss: 2.3695 - val_accuracy: 0.2339\n",
      "Epoch 94/100\n",
      "9/9 [==============================] - 1s 134ms/step - loss: 0.7251 - accuracy: 0.7354 - val_loss: 2.3942 - val_accuracy: 0.2500\n",
      "Epoch 95/100\n",
      "9/9 [==============================] - 1s 135ms/step - loss: 0.6890 - accuracy: 0.7632 - val_loss: 2.3906 - val_accuracy: 0.2339\n",
      "Epoch 96/100\n",
      "9/9 [==============================] - 1s 133ms/step - loss: 0.6809 - accuracy: 0.7713 - val_loss: 2.4444 - val_accuracy: 0.2177\n",
      "Epoch 97/100\n",
      "9/9 [==============================] - 1s 132ms/step - loss: 0.6737 - accuracy: 0.7596 - val_loss: 2.4473 - val_accuracy: 0.2339\n",
      "Epoch 98/100\n",
      "9/9 [==============================] - 1s 132ms/step - loss: 0.6584 - accuracy: 0.7722 - val_loss: 2.5079 - val_accuracy: 0.2500\n",
      "Epoch 99/100\n",
      "9/9 [==============================] - 1s 133ms/step - loss: 0.6626 - accuracy: 0.7740 - val_loss: 2.4770 - val_accuracy: 0.2177\n",
      "Epoch 100/100\n",
      "9/9 [==============================] - 1s 132ms/step - loss: 0.6531 - accuracy: 0.7749 - val_loss: 2.4987 - val_accuracy: 0.2419\n"
     ]
    }
   ],
   "source": [
    "batch_size = 128\n",
    "epochs = 100\n",
    "\n",
    "lenet_model.compile(loss=\"categorical_crossentropy\", optimizer=\"adam\", metrics=[\"accuracy\"])\n",
    "\n",
    "history_lenet = lenet_model.fit(features_train, labels_train, batch_size=batch_size, epochs=epochs, validation_split=0.1)"
   ]
  },
  {
   "cell_type": "code",
   "execution_count": 48,
   "metadata": {
    "colab": {
     "base_uri": "https://localhost:8080/"
    },
    "id": "zb4Rm3omoV8H",
    "outputId": "c63cf849-a68f-4ed1-a672-d783a6ae7c74"
   },
   "outputs": [
    {
     "name": "stdout",
     "output_type": "stream",
     "text": [
      "Test loss: 2.376610517501831\n",
      "Test accuracy: 0.28260868787765503\n"
     ]
    }
   ],
   "source": [
    "score = lenet_model.evaluate(features_test, labels_test, verbose=0)\n",
    "print(\"Test loss:\", score[0])\n",
    "print(\"Test accuracy:\", score[1])"
   ]
  },
  {
   "cell_type": "code",
   "execution_count": 17,
   "metadata": {
    "colab": {
     "base_uri": "https://localhost:8080/"
    },
    "id": "nSQKbO0hS7tY",
    "outputId": "db0e68cd-7925-4d58-bf4c-754090a86192"
   },
   "outputs": [
    {
     "data": {
      "text/plain": [
       "dict_keys(['loss', 'accuracy', 'val_loss', 'val_accuracy'])"
      ]
     },
     "execution_count": 17,
     "metadata": {
      "tags": []
     },
     "output_type": "execute_result"
    }
   ],
   "source": [
    "history_lenet.history.keys()"
   ]
  },
  {
   "cell_type": "code",
   "execution_count": 49,
   "metadata": {
    "colab": {
     "base_uri": "https://localhost:8080/",
     "height": 301
    },
    "id": "xK71-kgqI38k",
    "outputId": "342a3fbc-bb2f-4c80-b261-3605f2b916aa"
   },
   "outputs": [
    {
     "data": {
      "image/png": "[encoded data removed]",
      "text/plain": [
       "<Figure size 432x288 with 1 Axes>"
      ]
     },
     "metadata": {
      "tags": []
     },
     "output_type": "display_data"
    }
   ],
   "source": [
    "sns.set()\n",
    "plt.plot(history_lenet.history['accuracy'])\n",
    "plt.plot(history_lenet.history['val_accuracy'])\n",
    "plt.title('Training vs Validation Accuracy')\n",
    "plt.ylabel('Accuracy')\n",
    "plt.xlabel('Epoch')\n",
    "plt.legend(['Training', 'Validation'])\n",
    "plt.savefig('lenet_hist1.png')\n",
    "plt.show()"
   ]
  },
  {
   "cell_type": "code",
   "execution_count": 50,
   "metadata": {
    "colab": {
     "base_uri": "https://localhost:8080/",
     "height": 301
    },
    "id": "ldlQ1ln0t4r1",
    "outputId": "89c95d1f-0b82-4d50-8f4c-474e60887135"
   },
   "outputs": [
    {
     "data": {
      "image/png": "[encoded data removed]",
      "text/plain": [
       "<Figure size 432x288 with 1 Axes>"
      ]
     },
     "metadata": {
      "tags": []
     },
     "output_type": "display_data"
    }
   ],
   "source": [
    "\n",
    "plt.plot(history_lenet.history['loss'])\n",
    "plt.plot(history_lenet.history['val_loss'])\n",
    "plt.title('Training vs Validation Loss')\n",
    "plt.ylabel('Loss')\n",
    "plt.xlabel('Epoch')\n",
    "plt.legend(['Training', 'Validation'])\n",
    "plt.savefig('lenet_hist2.png')\n",
    "plt.show()"
   ]
  },
  {
   "cell_type": "code",
   "execution_count": 68,
   "metadata": {
    "id": "0_C-L3FCo2JZ"
   },
   "outputs": [],
   "source": [
    "features_train, features_test, labels_train, labels_test = train_test_split(champions['images_tiles'], champions['target_tiles'], test_size=0.1, random_state=4100)"
   ]
  },
  {
   "cell_type": "code",
   "execution_count": 69,
   "metadata": {
    "colab": {
     "base_uri": "https://localhost:8080/"
    },
    "id": "hQ0J-Mi_o8xo",
    "outputId": "e4870549-fb17-49eb-f6d3-a7999b9865aa"
   },
   "outputs": [
    {
     "name": "stdout",
     "output_type": "stream",
     "text": [
      "x_train shape: (1239, 224, 224, 3)\n",
      "1239 train samples\n",
      "138 test samples\n"
     ]
    }
   ],
   "source": [
    "# Model / data parameters\n",
    "num_classes = len(champions['target_names'])\n",
    "input_shape = champions['images_tiles'][0].shape\n",
    "\n",
    "# Scale images to the [0, 1] range\n",
    "features_train = features_train.astype(\"float32\") / 255\n",
    "features_test = features_test.astype(\"float32\") / 255\n",
    "\n",
    "print(\"x_train shape:\", features_train.shape)\n",
    "print(features_train.shape[0], \"train samples\")\n",
    "print(features_test.shape[0], \"test samples\")\n",
    "\n",
    "labels_train = keras.utils.to_categorical(labels_train, num_classes)\n",
    "labels_test = keras.utils.to_categorical(labels_test, num_classes)"
   ]
  },
  {
   "cell_type": "code",
   "execution_count": 57,
   "metadata": {
    "colab": {
     "base_uri": "https://localhost:8080/"
    },
    "id": "r1y0egryg22G",
    "outputId": "d0ac26f5-5307-4543-b916-a49a0ecc87e0"
   },
   "outputs": [
    {
     "name": "stdout",
     "output_type": "stream",
     "text": [
      "Model: \"sequential_4\"\n",
      "_________________________________________________________________\n",
      "Layer (type)                 Output Shape              Param #   \n",
      "=================================================================\n",
      "conv2d_8 (Conv2D)            (None, 55, 55, 96)        34944     \n",
      "_________________________________________________________________\n",
      "batch_normalization (BatchNo (None, 55, 55, 96)        384       \n",
      "_________________________________________________________________\n",
      "max_pooling2d_8 (MaxPooling2 (None, 27, 27, 96)        0         \n",
      "_________________________________________________________________\n",
      "conv2d_9 (Conv2D)            (None, 27, 27, 256)       614656    \n",
      "_________________________________________________________________\n",
      "batch_normalization_1 (Batch (None, 27, 27, 256)       1024      \n",
      "_________________________________________________________________\n",
      "max_pooling2d_9 (MaxPooling2 (None, 13, 13, 256)       0         \n",
      "_________________________________________________________________\n",
      "conv2d_10 (Conv2D)           (None, 13, 13, 384)       885120    \n",
      "_________________________________________________________________\n",
      "batch_normalization_2 (Batch (None, 13, 13, 384)       1536      \n",
      "_________________________________________________________________\n",
      "conv2d_11 (Conv2D)           (None, 13, 13, 384)       1327488   \n",
      "_________________________________________________________________\n",
      "batch_normalization_3 (Batch (None, 13, 13, 384)       1536      \n",
      "_________________________________________________________________\n",
      "conv2d_12 (Conv2D)           (None, 13, 13, 256)       884992    \n",
      "_________________________________________________________________\n",
      "batch_normalization_4 (Batch (None, 13, 13, 256)       1024      \n",
      "_________________________________________________________________\n",
      "max_pooling2d_10 (MaxPooling (None, 6, 6, 256)         0         \n",
      "_________________________________________________________________\n",
      "flatten_4 (Flatten)          (None, 9216)              0         \n",
      "_________________________________________________________________\n",
      "dense_4 (Dense)              (None, 4096)              37752832  \n",
      "_________________________________________________________________\n",
      "dropout_4 (Dropout)          (None, 4096)              0         \n",
      "_________________________________________________________________\n",
      "dense_5 (Dense)              (None, 4096)              16781312  \n",
      "_________________________________________________________________\n",
      "dropout_5 (Dropout)          (None, 4096)              0         \n",
      "_________________________________________________________________\n",
      "dense_6 (Dense)              (None, 6)                 24582     \n",
      "=================================================================\n",
      "Total params: 58,311,430\n",
      "Trainable params: 58,308,678\n",
      "Non-trainable params: 2,752\n",
      "_________________________________________________________________\n"
     ]
    }
   ],
   "source": [
    "alexnet_model = keras.models.Sequential(\n",
    "    [\n",
    "      keras.layers.Conv2D(filters=96, kernel_size=(11,11), strides=(4,4), activation='relu', input_shape=input_shape),\n",
    "      keras.layers.BatchNormalization(),\n",
    "      keras.layers.MaxPool2D(pool_size=(3,3), strides=(2,2)),\n",
    "      keras.layers.Conv2D(filters=256, kernel_size=(5,5), strides=(1,1), activation='relu', padding=\"same\"),\n",
    "      keras.layers.BatchNormalization(),\n",
    "      keras.layers.MaxPool2D(pool_size=(3,3), strides=(2,2)),\n",
    "      keras.layers.Conv2D(filters=384, kernel_size=(3,3), strides=(1,1), activation='relu', padding=\"same\"),\n",
    "      keras.layers.BatchNormalization(),\n",
    "      keras.layers.Conv2D(filters=384, kernel_size=(3,3), strides=(1,1), activation='relu', padding=\"same\"),\n",
    "      keras.layers.BatchNormalization(),\n",
    "      keras.layers.Conv2D(filters=256, kernel_size=(3,3), strides=(1,1), activation='relu', padding=\"same\"),\n",
    "      keras.layers.BatchNormalization(),\n",
    "      keras.layers.MaxPool2D(pool_size=(3,3), strides=(2,2)),\n",
    "      keras.layers.Flatten(),\n",
    "      keras.layers.Dense(4096, activation='relu'),\n",
    "      keras.layers.Dropout(0.5),\n",
    "      keras.layers.Dense(4096, activation='relu'),\n",
    "      keras.layers.Dropout(0.5),\n",
    "      keras.layers.Dense(num_classes, activation='softmax')\n",
    "    ]\n",
    ")\n",
    "alexnet_model.summary()"
   ]
  },
  {
   "cell_type": "code",
   "execution_count": 58,
   "metadata": {
    "colab": {
     "base_uri": "https://localhost:8080/"
    },
    "id": "U543FLNvg_5W",
    "outputId": "8c511fe6-64fa-4098-ef8b-9eb12285b047"
   },
   "outputs": [
    {
     "name": "stdout",
     "output_type": "stream",
     "text": [
      "Epoch 1/50\n",
      "9/9 [==============================] - 175s 19s/step - loss: 43.5239 - accuracy: 0.1767 - val_loss: 155.7712 - val_accuracy: 0.1452\n",
      "Epoch 2/50\n",
      "9/9 [==============================] - 169s 19s/step - loss: 4.6660 - accuracy: 0.2027 - val_loss: 20.3349 - val_accuracy: 0.2016\n",
      "Epoch 3/50\n",
      "9/9 [==============================] - 170s 19s/step - loss: 2.8942 - accuracy: 0.2413 - val_loss: 5.3148 - val_accuracy: 0.2742\n",
      "Epoch 4/50\n",
      "9/9 [==============================] - 175s 20s/step - loss: 2.4061 - accuracy: 0.2502 - val_loss: 4.3242 - val_accuracy: 0.1371\n",
      "Epoch 5/50\n",
      "9/9 [==============================] - 171s 19s/step - loss: 2.0128 - accuracy: 0.2843 - val_loss: 2.8363 - val_accuracy: 0.2258\n",
      "Epoch 6/50\n",
      "9/9 [==============================] - 170s 19s/step - loss: 1.9705 - accuracy: 0.2897 - val_loss: 2.3689 - val_accuracy: 0.1452\n",
      "Epoch 7/50\n",
      "9/9 [==============================] - 172s 19s/step - loss: 1.8579 - accuracy: 0.2870 - val_loss: 1.9364 - val_accuracy: 0.2661\n",
      "Epoch 8/50\n",
      "9/9 [==============================] - 173s 19s/step - loss: 1.7927 - accuracy: 0.3040 - val_loss: 2.0496 - val_accuracy: 0.1774\n",
      "Epoch 9/50\n",
      "9/9 [==============================] - 173s 19s/step - loss: 1.7620 - accuracy: 0.3121 - val_loss: 1.8443 - val_accuracy: 0.1532\n",
      "Epoch 10/50\n",
      "9/9 [==============================] - 173s 19s/step - loss: 1.6843 - accuracy: 0.3300 - val_loss: 1.8699 - val_accuracy: 0.1452\n",
      "Epoch 11/50\n",
      "9/9 [==============================] - 172s 19s/step - loss: 1.6572 - accuracy: 0.3408 - val_loss: 1.7774 - val_accuracy: 0.2016\n",
      "Epoch 12/50\n",
      "9/9 [==============================] - 171s 19s/step - loss: 1.6188 - accuracy: 0.3489 - val_loss: 1.7905 - val_accuracy: 0.2016\n",
      "Epoch 13/50\n",
      "9/9 [==============================] - 172s 19s/step - loss: 1.5965 - accuracy: 0.3794 - val_loss: 1.7784 - val_accuracy: 0.2419\n",
      "Epoch 14/50\n",
      "9/9 [==============================] - 175s 19s/step - loss: 1.5695 - accuracy: 0.3794 - val_loss: 1.8103 - val_accuracy: 0.2097\n",
      "Epoch 15/50\n",
      "9/9 [==============================] - 172s 19s/step - loss: 1.5618 - accuracy: 0.3892 - val_loss: 1.7604 - val_accuracy: 0.2419\n",
      "Epoch 16/50\n",
      "9/9 [==============================] - 172s 19s/step - loss: 1.5345 - accuracy: 0.3812 - val_loss: 1.7965 - val_accuracy: 0.2419\n",
      "Epoch 17/50\n",
      "9/9 [==============================] - 172s 19s/step - loss: 1.5255 - accuracy: 0.3973 - val_loss: 1.7710 - val_accuracy: 0.2258\n",
      "Epoch 18/50\n",
      "9/9 [==============================] - 172s 19s/step - loss: 1.4758 - accuracy: 0.4179 - val_loss: 1.8278 - val_accuracy: 0.1855\n",
      "Epoch 19/50\n",
      "9/9 [==============================] - 173s 19s/step - loss: 1.4698 - accuracy: 0.4215 - val_loss: 1.7842 - val_accuracy: 0.2823\n",
      "Epoch 20/50\n",
      "9/9 [==============================] - 172s 19s/step - loss: 1.4550 - accuracy: 0.4422 - val_loss: 1.8586 - val_accuracy: 0.2097\n",
      "Epoch 21/50\n",
      "9/9 [==============================] - 172s 19s/step - loss: 1.4166 - accuracy: 0.4466 - val_loss: 1.8725 - val_accuracy: 0.2177\n",
      "Epoch 22/50\n",
      "9/9 [==============================] - 173s 19s/step - loss: 1.3578 - accuracy: 0.4753 - val_loss: 1.9445 - val_accuracy: 0.2419\n",
      "Epoch 23/50\n",
      "9/9 [==============================] - 174s 19s/step - loss: 1.3141 - accuracy: 0.4897 - val_loss: 1.9403 - val_accuracy: 0.2177\n",
      "Epoch 24/50\n",
      "9/9 [==============================] - 174s 19s/step - loss: 1.3351 - accuracy: 0.4852 - val_loss: 1.9594 - val_accuracy: 0.1935\n",
      "Epoch 25/50\n",
      "9/9 [==============================] - 173s 19s/step - loss: 1.3108 - accuracy: 0.4897 - val_loss: 1.9453 - val_accuracy: 0.2016\n",
      "Epoch 26/50\n",
      "9/9 [==============================] - 171s 19s/step - loss: 1.3155 - accuracy: 0.4861 - val_loss: 1.9677 - val_accuracy: 0.2097\n",
      "Epoch 27/50\n",
      "9/9 [==============================] - 171s 19s/step - loss: 1.2468 - accuracy: 0.5283 - val_loss: 2.0889 - val_accuracy: 0.2258\n",
      "Epoch 28/50\n",
      "9/9 [==============================] - 172s 19s/step - loss: 1.2359 - accuracy: 0.5256 - val_loss: 2.2333 - val_accuracy: 0.1935\n",
      "Epoch 29/50\n",
      "9/9 [==============================] - 172s 19s/step - loss: 1.2202 - accuracy: 0.5265 - val_loss: 2.1058 - val_accuracy: 0.2581\n",
      "Epoch 30/50\n",
      "9/9 [==============================] - 173s 19s/step - loss: 1.1453 - accuracy: 0.5668 - val_loss: 2.2599 - val_accuracy: 0.2419\n",
      "Epoch 31/50\n",
      "9/9 [==============================] - 172s 19s/step - loss: 1.2209 - accuracy: 0.5381 - val_loss: 2.4852 - val_accuracy: 0.2258\n",
      "Epoch 32/50\n",
      "9/9 [==============================] - 172s 19s/step - loss: 1.1962 - accuracy: 0.5516 - val_loss: 2.5357 - val_accuracy: 0.2339\n",
      "Epoch 33/50\n",
      "9/9 [==============================] - 172s 19s/step - loss: 1.1184 - accuracy: 0.5848 - val_loss: 2.5721 - val_accuracy: 0.2419\n",
      "Epoch 34/50\n",
      "9/9 [==============================] - 172s 19s/step - loss: 1.0728 - accuracy: 0.6000 - val_loss: 2.3563 - val_accuracy: 0.2258\n",
      "Epoch 35/50\n",
      "9/9 [==============================] - 172s 19s/step - loss: 1.0819 - accuracy: 0.5910 - val_loss: 2.4841 - val_accuracy: 0.2258\n",
      "Epoch 36/50\n",
      "9/9 [==============================] - 178s 19s/step - loss: 1.0471 - accuracy: 0.6242 - val_loss: 2.5221 - val_accuracy: 0.1613\n",
      "Epoch 37/50\n",
      "9/9 [==============================] - 175s 19s/step - loss: 1.0742 - accuracy: 0.5955 - val_loss: 2.4804 - val_accuracy: 0.1774\n",
      "Epoch 38/50\n",
      "9/9 [==============================] - 174s 19s/step - loss: 1.0370 - accuracy: 0.5955 - val_loss: 2.4067 - val_accuracy: 0.2419\n",
      "Epoch 39/50\n",
      "9/9 [==============================] - 173s 19s/step - loss: 1.0203 - accuracy: 0.6099 - val_loss: 2.3507 - val_accuracy: 0.1935\n",
      "Epoch 40/50\n",
      "9/9 [==============================] - 173s 19s/step - loss: 1.0187 - accuracy: 0.6287 - val_loss: 2.3383 - val_accuracy: 0.2177\n",
      "Epoch 41/50\n",
      "9/9 [==============================] - 173s 19s/step - loss: 0.9612 - accuracy: 0.6574 - val_loss: 2.7623 - val_accuracy: 0.2339\n",
      "Epoch 42/50\n",
      "9/9 [==============================] - 175s 19s/step - loss: 0.9352 - accuracy: 0.6556 - val_loss: 2.5672 - val_accuracy: 0.1694\n",
      "Epoch 43/50\n",
      "9/9 [==============================] - 175s 19s/step - loss: 0.9381 - accuracy: 0.6556 - val_loss: 2.6744 - val_accuracy: 0.1774\n",
      "Epoch 44/50\n",
      "9/9 [==============================] - 174s 19s/step - loss: 0.9346 - accuracy: 0.6556 - val_loss: 2.7901 - val_accuracy: 0.1855\n",
      "Epoch 45/50\n",
      "9/9 [==============================] - 174s 19s/step - loss: 0.9291 - accuracy: 0.6511 - val_loss: 2.5837 - val_accuracy: 0.1774\n",
      "Epoch 46/50\n",
      "9/9 [==============================] - 175s 19s/step - loss: 0.8945 - accuracy: 0.6673 - val_loss: 2.8191 - val_accuracy: 0.1613\n",
      "Epoch 47/50\n",
      "9/9 [==============================] - 176s 19s/step - loss: 0.8666 - accuracy: 0.6816 - val_loss: 4.0192 - val_accuracy: 0.1935\n",
      "Epoch 48/50\n",
      "9/9 [==============================] - 174s 19s/step - loss: 0.7917 - accuracy: 0.7175 - val_loss: 2.7015 - val_accuracy: 0.1774\n",
      "Epoch 49/50\n",
      "9/9 [==============================] - 173s 19s/step - loss: 0.8067 - accuracy: 0.7238 - val_loss: 3.0737 - val_accuracy: 0.2500\n",
      "Epoch 50/50\n",
      "9/9 [==============================] - 172s 19s/step - loss: 0.7955 - accuracy: 0.7085 - val_loss: 2.7014 - val_accuracy: 0.1855\n"
     ]
    }
   ],
   "source": [
    "batch_size = 128\n",
    "epochs = 50\n",
    "\n",
    "alexnet_model.compile(loss=\"categorical_crossentropy\", optimizer=\"adam\", metrics=[\"accuracy\"])\n",
    "\n",
    "history = alexnet_model.fit(features_train, labels_train, batch_size=batch_size, epochs=epochs, validation_split=0.1)"
   ]
  },
  {
   "cell_type": "code",
   "execution_count": 59,
   "metadata": {
    "colab": {
     "base_uri": "https://localhost:8080/"
    },
    "id": "YpLYyMjrpwvT",
    "outputId": "1cb3d00c-6d94-4c8c-afba-08af50949471"
   },
   "outputs": [
    {
     "name": "stdout",
     "output_type": "stream",
     "text": [
      "Test loss: 2.3671555519104004\n",
      "Test accuracy: 0.26811593770980835\n"
     ]
    }
   ],
   "source": [
    "score = alexnet_model.evaluate(features_test, labels_test, verbose=0)\n",
    "print(\"Test loss:\", score[0])\n",
    "print(\"Test accuracy:\", score[1])"
   ]
  },
  {
   "cell_type": "code",
   "execution_count": 60,
   "metadata": {
    "colab": {
     "base_uri": "https://localhost:8080/",
     "height": 301
    },
    "id": "Uf-ksdBuGt2q",
    "outputId": "d388d096-bd4d-496e-e6cc-d53567fba7ca"
   },
   "outputs": [
    {
     "data": {
      "image/png": "[encoded data removed]",
      "text/plain": [
       "<Figure size 432x288 with 1 Axes>"
      ]
     },
     "metadata": {
      "tags": []
     },
     "output_type": "display_data"
    }
   ],
   "source": [
    "sns.set()\n",
    "plt.plot(history.history['accuracy'])\n",
    "plt.plot(history.history['val_accuracy'])\n",
    "plt.title('Training vs Validation Accuracy')\n",
    "plt.ylabel('Accuracy')\n",
    "plt.xlabel('Epoch')\n",
    "plt.legend(['Training', 'Validation'])\n",
    "plt.savefig('alex_hist1.png')\n",
    "plt.show()"
   ]
  },
  {
   "cell_type": "code",
   "execution_count": 63,
   "metadata": {
    "colab": {
     "base_uri": "https://localhost:8080/",
     "height": 301
    },
    "id": "QF7qybFWHnsc",
    "outputId": "11ea3ab3-8d30-4c0a-f0f0-befc603f818b"
   },
   "outputs": [
    {
     "data": {
      "image/png": "[encoded data removed]",
      "text/plain": [
       "<Figure size 432x288 with 1 Axes>"
      ]
     },
     "metadata": {
      "tags": []
     },
     "output_type": "display_data"
    }
   ],
   "source": [
    "\n",
    "plt.plot(history.history['loss'][5:])\n",
    "plt.plot(history.history['val_loss'][5:])\n",
    "plt.title('Training vs Validation Loss')\n",
    "plt.ylabel('Loss')\n",
    "plt.xlabel('Epoch')\n",
    "plt.legend(['Training', 'Validation'])\n",
    "plt.savefig('alex_hist2.png')\n",
    "plt.show()"
   ]
  }
 ],
 "metadata": {
  "colab": {
   "collapsed_sections": [],
   "name": "League.ipynb",
   "provenance": []
  },
  "kernelspec": {
   "display_name": "Python 3",
   "language": "python",
   "name": "python3"
  },
  "language_info": {
   "codemirror_mode": {
    "name": "ipython",
    "version": 3
   },
   "file_extension": ".py",
   "mimetype": "text/x-python",
   "name": "python",
   "nbconvert_exporter": "python",
   "pygments_lexer": "ipython3",
   "version": "3.7.4"
  }
 },
 "nbformat": 4,
 "nbformat_minor": 1
}
